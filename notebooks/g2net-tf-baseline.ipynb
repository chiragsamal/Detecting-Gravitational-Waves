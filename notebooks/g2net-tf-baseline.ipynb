{
 "cells": [
  {
   "attachments": {},
   "cell_type": "markdown",
   "id": "b6c87bca",
   "metadata": {
    "_cell_guid": "b1076dfc-b9ad-4769-8c92-a6c4dae69d19",
    "_uuid": "8f2839f25d086af736a60e9eeb907d3b93b6e0e5",
    "papermill": {
     "duration": 0.009226,
     "end_time": "2023-01-15T12:16:52.416236",
     "exception": false,
     "start_time": "2023-01-15T12:16:52.407010",
     "status": "completed"
    },
    "tags": []
   },
   "source": [
    "<h1 style=\"font-family:verdana;\"> <center>G2Net - Baseline Model</center> </h1>\n",
    "\n",
    "***\n",
    "## Competition overview\n",
    "Finding consistent gravitational-wave signals is the aim of this repository. We'll create a model that is sensitive enough to distinguish between noisy data and the weak but persistent signals emitted by swiftly rotating neutron stars.\n",
    "\n",
    "In this competition, we are given a training set for this competition that contains time-frequency data from two gravitational-wave interferometers (LIGO Hanford & LIGO Livingston). Each data sample has real or simulated noise, as well as perhaps a continuous simulated gravitational-wave signal (CW). Detecting the presence of a signal in the data is the task (target = 1).\n",
    "\n",
    "In this notebook we will train a simple baseline model similar to [Basic spectrogram image classification](https://www.kaggle.com/code/junkoda/basic-spectrogram-image-classification). We train a straightforward EfficientNetB3 with the time-averaged power spectrum as input images. 360 x 360.\n",
    "\n",
    "The TF records used in this notebook is taken from [G2Net - Record Generation](https://www.kaggle.com/code/morodertobias/g2net-record-generation).\n"
   ]
  },
  {
   "cell_type": "code",
   "execution_count": 1,
   "id": "924ec125",
   "metadata": {
    "execution": {
     "iopub.execute_input": "2023-01-15T12:16:52.435207Z",
     "iopub.status.busy": "2023-01-15T12:16:52.434010Z",
     "iopub.status.idle": "2023-01-15T12:16:58.299901Z",
     "shell.execute_reply": "2023-01-15T12:16:58.298989Z"
    },
    "papermill": {
     "duration": 5.877706,
     "end_time": "2023-01-15T12:16:58.302447",
     "exception": false,
     "start_time": "2023-01-15T12:16:52.424741",
     "status": "completed"
    },
    "tags": []
   },
   "outputs": [
    {
     "name": "stdout",
     "output_type": "stream",
     "text": [
      "2.6.4\n"
     ]
    }
   ],
   "source": [
    "## Import Libraries\n",
    "import os\n",
    "os.environ['TF_CPP_MIN_LOG_LEVEL'] = '4'\n",
    "import re\n",
    "import pathlib\n",
    "import numpy as np\n",
    "import pandas as pd\n",
    "import matplotlib.pyplot as plt\n",
    "import seaborn as sns\n",
    "import tensorflow as tf\n",
    "print(tf.__version__)\n",
    "from pydantic import BaseModel\n",
    "from sklearn.model_selection import train_test_split"
   ]
  },
  {
   "cell_type": "code",
   "execution_count": 2,
   "id": "0fb84606",
   "metadata": {
    "execution": {
     "iopub.execute_input": "2023-01-15T12:16:58.320864Z",
     "iopub.status.busy": "2023-01-15T12:16:58.320382Z",
     "iopub.status.idle": "2023-01-15T12:17:00.863814Z",
     "shell.execute_reply": "2023-01-15T12:17:00.862892Z"
    },
    "papermill": {
     "duration": 2.555224,
     "end_time": "2023-01-15T12:17:00.866029",
     "exception": false,
     "start_time": "2023-01-15T12:16:58.310805",
     "status": "completed"
    },
    "tags": []
   },
   "outputs": [
    {
     "data": {
      "text/plain": [
       "[LogicalDevice(name='/device:CPU:0', device_type='CPU'),\n",
       " LogicalDevice(name='/device:GPU:0', device_type='GPU')]"
      ]
     },
     "execution_count": 2,
     "metadata": {},
     "output_type": "execute_result"
    }
   ],
   "source": [
    "## List Devices on the machine\n",
    "sorted(tf.config.list_logical_devices())"
   ]
  },
  {
   "cell_type": "code",
   "execution_count": 3,
   "id": "f1bf5f4a",
   "metadata": {
    "execution": {
     "iopub.execute_input": "2023-01-15T12:17:00.885274Z",
     "iopub.status.busy": "2023-01-15T12:17:00.884921Z",
     "iopub.status.idle": "2023-01-15T12:17:00.896290Z",
     "shell.execute_reply": "2023-01-15T12:17:00.894933Z"
    },
    "papermill": {
     "duration": 0.022267,
     "end_time": "2023-01-15T12:17:00.898231",
     "exception": false,
     "start_time": "2023-01-15T12:17:00.875964",
     "status": "completed"
    },
    "tags": []
   },
   "outputs": [
    {
     "name": "stdout",
     "output_type": "stream",
     "text": [
      "Strategy: <tensorflow.python.distribute.distribute_lib._DefaultDistributionStrategy object at 0x7f60ba730590>\n",
      "Number of replicas: 1\n"
     ]
    }
   ],
   "source": [
    "## Using TPU\n",
    "try:\n",
    "    tpu = tf.distribute.cluster_resolver.TPUClusterResolver()\n",
    "    print('Device:', tpu.master())\n",
    "    tf.config.experimental_connect_to_cluster(tpu)\n",
    "    tf.tpu.experimental.initialize_tpu_system(tpu)\n",
    "    strategy = tf.distribute.TPUStrategy(tpu)\n",
    "    print(\"TPU in use!\")\n",
    "except:\n",
    "    strategy = tf.distribute.get_strategy()\n",
    "print(\"Strategy:\", strategy)\n",
    "print(\"Number of replicas:\", strategy.num_replicas_in_sync)"
   ]
  },
  {
   "cell_type": "code",
   "execution_count": 4,
   "id": "2dceff5d",
   "metadata": {
    "execution": {
     "iopub.execute_input": "2023-01-15T12:17:00.915907Z",
     "iopub.status.busy": "2023-01-15T12:17:00.915212Z",
     "iopub.status.idle": "2023-01-15T12:17:00.921596Z",
     "shell.execute_reply": "2023-01-15T12:17:00.920756Z"
    },
    "papermill": {
     "duration": 0.017264,
     "end_time": "2023-01-15T12:17:00.923621",
     "exception": false,
     "start_time": "2023-01-15T12:17:00.906357",
     "status": "completed"
    },
    "tags": []
   },
   "outputs": [],
   "source": [
    "from kaggle_datasets import KaggleDatasets"
   ]
  },
  {
   "cell_type": "markdown",
   "id": "f73e2db4",
   "metadata": {
    "papermill": {
     "duration": 0.00778,
     "end_time": "2023-01-15T12:17:00.939488",
     "exception": false,
     "start_time": "2023-01-15T12:17:00.931708",
     "status": "completed"
    },
    "tags": []
   },
   "source": [
    "# Config"
   ]
  },
  {
   "cell_type": "code",
   "execution_count": 5,
   "id": "3bdd83d1",
   "metadata": {
    "execution": {
     "iopub.execute_input": "2023-01-15T12:17:00.957507Z",
     "iopub.status.busy": "2023-01-15T12:17:00.956617Z",
     "iopub.status.idle": "2023-01-15T12:17:01.530992Z",
     "shell.execute_reply": "2023-01-15T12:17:01.530012Z"
    },
    "papermill": {
     "duration": 0.585762,
     "end_time": "2023-01-15T12:17:01.533410",
     "exception": false,
     "start_time": "2023-01-15T12:17:00.947648",
     "status": "completed"
    },
    "tags": []
   },
   "outputs": [
    {
     "data": {
      "text/plain": [
       "{'seed': 887,\n",
       " 'model_name': 'enetb3_v1',\n",
       " 'model_dir': '/kaggle/working/model',\n",
       " 'gcs': 'gs://kds-1abb01260782a886928b0c29c7209788eceeb508869589b38989c0b5',\n",
       " 'path_submission': '/kaggle/input/g2net-detecting-continuous-gravitational-waves/sample_submission.csv',\n",
       " 'train_dir': 'gs://kds-1abb01260782a886928b0c29c7209788eceeb508869589b38989c0b5/train/',\n",
       " 'test_dir': 'gs://kds-1abb01260782a886928b0c29c7209788eceeb508869589b38989c0b5/test/',\n",
       " 'img_size': (360, 360),\n",
       " 'channels': 2,\n",
       " 'img_shape': (360, 360, 2),\n",
       " 'base_model_weights': 'imagenet',\n",
       " 'dropout': 0.2,\n",
       " 'shuffle_size': 128,\n",
       " 'epochs': 200,\n",
       " 'batch_size': 16,\n",
       " 'test_batch_size': 64,\n",
       " 'lr': 0.001,\n",
       " 'patience': 10}"
      ]
     },
     "execution_count": 5,
     "metadata": {},
     "output_type": "execute_result"
    }
   ],
   "source": [
    "## Configurations\n",
    "class Config(BaseModel):\n",
    "    seed = 887\n",
    "    # defines the model name and model directory\n",
    "    model_name = \"enetb3_v1\"\n",
    "    model_dir = \"/kaggle/working/model\"\n",
    "    # defines the path to the GCS bucket where the training and test data are stored.\n",
    "    gcs = KaggleDatasets().get_gcs_path(\"360-g2net-record-generation\")\n",
    "    path_submission = \"/kaggle/input/g2net-detecting-continuous-gravitational-waves/sample_submission.csv\"\n",
    "    train_dir = gcs + \"/train/\"\n",
    "    test_dir = gcs + \"/test/\"\n",
    "    # defines the image size, number of channels, and the shape of the input image.\n",
    "    img_size = (360, 360)\n",
    "    channels = 2\n",
    "    img_shape = (*img_size, channels)\n",
    "    # defines the base model weights, dropout, shuffle size, number of epochs, batch size, test batch size, learning rate, and patience.\n",
    "    base_model_weights = \"imagenet\"\n",
    "    dropout = 0.2\n",
    "    # training\n",
    "    shuffle_size = 128\n",
    "    epochs = 200\n",
    "    batch_size = 16 * strategy.num_replicas_in_sync\n",
    "    test_batch_size = 64\n",
    "    lr = 0.001\n",
    "    patience = 10\n",
    "    \n",
    "cfg = Config()\n",
    "cfg.dict()"
   ]
  },
  {
   "cell_type": "markdown",
   "id": "8d9badd4",
   "metadata": {
    "papermill": {
     "duration": 0.008359,
     "end_time": "2023-01-15T12:17:01.550299",
     "exception": false,
     "start_time": "2023-01-15T12:17:01.541940",
     "status": "completed"
    },
    "tags": []
   },
   "source": [
    "# Prepare data\n",
    "\n",
    "Prepare training, validation and test datasets."
   ]
  },
  {
   "cell_type": "code",
   "execution_count": 6,
   "id": "eb56fe9c",
   "metadata": {
    "execution": {
     "iopub.execute_input": "2023-01-15T12:17:01.568056Z",
     "iopub.status.busy": "2023-01-15T12:17:01.567728Z",
     "iopub.status.idle": "2023-01-15T12:17:01.572596Z",
     "shell.execute_reply": "2023-01-15T12:17:01.571661Z"
    },
    "papermill": {
     "duration": 0.016156,
     "end_time": "2023-01-15T12:17:01.574691",
     "exception": false,
     "start_time": "2023-01-15T12:17:01.558535",
     "status": "completed"
    },
    "tags": []
   },
   "outputs": [],
   "source": [
    "## Count Data Items\n",
    "def count_data_items(filenames):\n",
    "    n = [int(re.compile(r\"size-([0-9]*)\\.\").search(f).group(1)) for f in filenames]\n",
    "    return np.sum(n)"
   ]
  },
  {
   "cell_type": "code",
   "execution_count": 7,
   "id": "63b49c09",
   "metadata": {
    "execution": {
     "iopub.execute_input": "2023-01-15T12:17:01.592308Z",
     "iopub.status.busy": "2023-01-15T12:17:01.591532Z",
     "iopub.status.idle": "2023-01-15T12:17:02.220419Z",
     "shell.execute_reply": "2023-01-15T12:17:02.219464Z"
    },
    "papermill": {
     "duration": 0.640219,
     "end_time": "2023-01-15T12:17:02.222839",
     "exception": false,
     "start_time": "2023-01-15T12:17:01.582620",
     "status": "completed"
    },
    "tags": []
   },
   "outputs": [
    {
     "data": {
      "text/plain": [
       "(1527,\n",
       " ['gs://kds-1abb01260782a886928b0c29c7209788eceeb508869589b38989c0b5/train/g2net-train-orig_shard-3_size-170.tfrec',\n",
       "  'gs://kds-1abb01260782a886928b0c29c7209788eceeb508869589b38989c0b5/train/g2net-train-orig_shard-5_size-170.tfrec',\n",
       "  'gs://kds-1abb01260782a886928b0c29c7209788eceeb508869589b38989c0b5/train/g2net-train-orig_shard-10_size-169.tfrec',\n",
       "  'gs://kds-1abb01260782a886928b0c29c7209788eceeb508869589b38989c0b5/train/g2net-train-orig_shard-0_size-170.tfrec',\n",
       "  'gs://kds-1abb01260782a886928b0c29c7209788eceeb508869589b38989c0b5/train/g2net-train-orig_shard-4_size-170.tfrec',\n",
       "  'gs://kds-1abb01260782a886928b0c29c7209788eceeb508869589b38989c0b5/train/g2net-train-orig_shard-11_size-169.tfrec',\n",
       "  'gs://kds-1abb01260782a886928b0c29c7209788eceeb508869589b38989c0b5/train/g2net-train-orig_shard-2_size-170.tfrec',\n",
       "  'gs://kds-1abb01260782a886928b0c29c7209788eceeb508869589b38989c0b5/train/g2net-train-orig_shard-7_size-169.tfrec',\n",
       "  'gs://kds-1abb01260782a886928b0c29c7209788eceeb508869589b38989c0b5/train/g2net-train-orig_shard-1_size-170.tfrec'],\n",
       " 507,\n",
       " ['gs://kds-1abb01260782a886928b0c29c7209788eceeb508869589b38989c0b5/train/g2net-train-orig_shard-8_size-169.tfrec',\n",
       "  'gs://kds-1abb01260782a886928b0c29c7209788eceeb508869589b38989c0b5/train/g2net-train-orig_shard-9_size-169.tfrec',\n",
       "  'gs://kds-1abb01260782a886928b0c29c7209788eceeb508869589b38989c0b5/train/g2net-train-orig_shard-6_size-169.tfrec'],\n",
       " 7975,\n",
       " 80)"
      ]
     },
     "execution_count": 7,
     "metadata": {},
     "output_type": "execute_result"
    }
   ],
   "source": [
    "train_files = sorted(tf.io.gfile.glob(cfg.train_dir + \"*.tfrec\"))\n",
    "train_files, valid_files = train_test_split(train_files, random_state=cfg.seed)\n",
    "test_files = sorted(tf.io.gfile.glob(cfg.test_dir + \"*.tfrec\"))\n",
    "count_data_items(train_files), train_files, count_data_items(valid_files), valid_files, count_data_items(test_files), len(test_files)"
   ]
  },
  {
   "cell_type": "markdown",
   "id": "35635a07",
   "metadata": {
    "papermill": {
     "duration": 0.008369,
     "end_time": "2023-01-15T12:17:02.240038",
     "exception": false,
     "start_time": "2023-01-15T12:17:02.231669",
     "status": "completed"
    },
    "tags": []
   },
   "source": [
    "## Data handling\n",
    "\n",
    "The tensorflow records have the stacked image encoded as tensor; so in particular not normalized to fit the default image ranges. A target is present in the training data, an id in the test data.\n"
   ]
  },
  {
   "cell_type": "code",
   "execution_count": 8,
   "id": "32c22c02",
   "metadata": {
    "execution": {
     "iopub.execute_input": "2023-01-15T12:17:02.258342Z",
     "iopub.status.busy": "2023-01-15T12:17:02.258050Z",
     "iopub.status.idle": "2023-01-15T12:17:02.268277Z",
     "shell.execute_reply": "2023-01-15T12:17:02.267347Z"
    },
    "papermill": {
     "duration": 0.02193,
     "end_time": "2023-01-15T12:17:02.270277",
     "exception": false,
     "start_time": "2023-01-15T12:17:02.248347",
     "status": "completed"
    },
    "tags": []
   },
   "outputs": [],
   "source": [
    "AUTOTUNE = tf.data.AUTOTUNE\n",
    " \n",
    "\n",
    "## Normalize Similar to Image\n",
    "def normalize_as_image(x):\n",
    "    t_min = tf.math.reduce_min(x, axis=[0, 1])\n",
    "    t_max = tf.math.reduce_max(x, axis=[0, 1])\n",
    "    img = (x - t_min) / (t_max - t_min) * 255.\n",
    "    return img\n",
    "\n",
    "## Decode Image\n",
    "def decode_image(img_data):\n",
    "    img = tf.io.parse_tensor(img_data, tf.float32)\n",
    "    # channel first to last position\n",
    "    img = tf.transpose(img, perm=[1, 2, 0])\n",
    "    # normalize as float image in range [0. 255.]\n",
    "    img = normalize_as_image(img)\n",
    "    return img\n",
    "\n",
    "## Parse Train TFRecord\n",
    "##  The parse_train_tfrecord function parses the serialized data into a dictionary of features.\n",
    "def parse_train_tfrecord(data):\n",
    "    #  define a dictionary of features.\n",
    "    features = {\n",
    "        'img': tf.io.FixedLenFeature([], tf.string),\n",
    "        'target': tf.io.FixedLenFeature([], tf.int64)\n",
    "    }\n",
    "    ## The features dictionary defines the names and types of the features of the dataset.\n",
    "    ex = tf.io.parse_single_example(data, features)\n",
    "    img = decode_image(ex[\"img\"])\n",
    "    return img, ex[\"target\"]\n",
    "\n",
    "## Parse Test TFRecord\n",
    "## The parse_test_tfrecord function parses the serialized data into a dictionary of features.\n",
    "def parse_test_tfrecord(data):\n",
    "    features = {\n",
    "        'img': tf.io.FixedLenFeature([], tf.string),\n",
    "        'id': tf.io.FixedLenFeature([], tf.string)\n",
    "    }\n",
    "    ex = tf.io.parse_single_example(data, features)\n",
    "    img = decode_image(ex[\"img\"])\n",
    "    return img, ex[\"id\"]\n",
    "\n",
    "\n",
    "def load_dataset(filenames, parse_func, ordered=False):\n",
    "    #  Create a dataset from the TFRecord files.\n",
    "    ds = tf.data.TFRecordDataset(filenames=filenames, num_parallel_reads=AUTOTUNE)\n",
    "    # Apply the tf.data.Options context manager to the dataset.\n",
    "    opt = tf.data.Options()\n",
    "    # Use the experimental_deterministic option to make sure the data is produced in a deterministic way.\n",
    "    opt.experimental_deterministic = ordered\n",
    "    ds = ds.with_options(opt)\n",
    "    # Map the parse_tfrecord function to each TFRecord in the dataset.\n",
    "    ds = ds.map(parse_func, num_parallel_calls=AUTOTUNE)\n",
    "    return ds"
   ]
  },
  {
   "cell_type": "code",
   "execution_count": 9,
   "id": "a9fa66c0",
   "metadata": {
    "execution": {
     "iopub.execute_input": "2023-01-15T12:17:02.288650Z",
     "iopub.status.busy": "2023-01-15T12:17:02.287858Z",
     "iopub.status.idle": "2023-01-15T12:17:02.294861Z",
     "shell.execute_reply": "2023-01-15T12:17:02.294018Z"
    },
    "papermill": {
     "duration": 0.01829,
     "end_time": "2023-01-15T12:17:02.296954",
     "exception": false,
     "start_time": "2023-01-15T12:17:02.278664",
     "status": "completed"
    },
    "tags": []
   },
   "outputs": [],
   "source": [
    "## Load the training dataset from the TFRecord files.\n",
    "def get_training_dataset(filenames):\n",
    "    ds = load_dataset(filenames, parse_func=parse_train_tfrecord, ordered=False)\n",
    "    ds = ds.repeat()\n",
    "    ds = ds.shuffle(cfg.shuffle_size)\n",
    "    ds = ds.batch(cfg.batch_size)\n",
    "    ds = ds.prefetch(AUTOTUNE)\n",
    "    return ds\n",
    "\n",
    "## Load the validation dataset from the TFRecord files.\n",
    "def get_validation_dataset(filenames):\n",
    "    ds = load_dataset(filenames, parse_func=parse_train_tfrecord, ordered=True)\n",
    "    ds = ds.batch(cfg.batch_size)\n",
    "    ds = ds.prefetch(AUTOTUNE)\n",
    "    return ds\n",
    "\n",
    "## Load the test dataset from the TFRecord files.\n",
    "def get_test_dataset(filenames):\n",
    "    ds = load_dataset(filenames, parse_func=parse_test_tfrecord, ordered=True)\n",
    "    ds = ds.batch(cfg.test_batch_size)\n",
    "    ds = ds.prefetch(AUTOTUNE)\n",
    "    return ds"
   ]
  },
  {
   "cell_type": "code",
   "execution_count": 10,
   "id": "23315d13",
   "metadata": {
    "execution": {
     "iopub.execute_input": "2023-01-15T12:17:02.315186Z",
     "iopub.status.busy": "2023-01-15T12:17:02.314464Z",
     "iopub.status.idle": "2023-01-15T12:17:02.932226Z",
     "shell.execute_reply": "2023-01-15T12:17:02.931283Z"
    },
    "papermill": {
     "duration": 0.629359,
     "end_time": "2023-01-15T12:17:02.934688",
     "exception": false,
     "start_time": "2023-01-15T12:17:02.305329",
     "status": "completed"
    },
    "tags": []
   },
   "outputs": [],
   "source": [
    "train_ds = get_training_dataset(train_files)\n",
    "valid_ds = get_validation_dataset(valid_files)\n",
    "test_ds = get_test_dataset(test_files)"
   ]
  },
  {
   "cell_type": "markdown",
   "id": "6234a9d0",
   "metadata": {
    "papermill": {
     "duration": 0.008057,
     "end_time": "2023-01-15T12:17:02.951375",
     "exception": false,
     "start_time": "2023-01-15T12:17:02.943318",
     "status": "completed"
    },
    "tags": []
   },
   "source": [
    "#### Check dataset"
   ]
  },
  {
   "cell_type": "code",
   "execution_count": 11,
   "id": "829ce83e",
   "metadata": {
    "execution": {
     "iopub.execute_input": "2023-01-15T12:17:02.970063Z",
     "iopub.status.busy": "2023-01-15T12:17:02.969216Z",
     "iopub.status.idle": "2023-01-15T12:17:09.069961Z",
     "shell.execute_reply": "2023-01-15T12:17:09.068971Z"
    },
    "papermill": {
     "duration": 6.112586,
     "end_time": "2023-01-15T12:17:09.072401",
     "exception": false,
     "start_time": "2023-01-15T12:17:02.959815",
     "status": "completed"
    },
    "tags": []
   },
   "outputs": [
    {
     "data": {
      "text/plain": [
       "(TensorShape([16, 360, 360, 2]), tf.float32, TensorShape([16]), tf.int64)"
      ]
     },
     "execution_count": 11,
     "metadata": {},
     "output_type": "execute_result"
    }
   ],
   "source": [
    "imgs, labels = next(iter(train_ds))\n",
    "imgs.shape, imgs.dtype, labels.shape, labels.dtype"
   ]
  },
  {
   "cell_type": "code",
   "execution_count": 12,
   "id": "674582c5",
   "metadata": {
    "execution": {
     "iopub.execute_input": "2023-01-15T12:17:09.091549Z",
     "iopub.status.busy": "2023-01-15T12:17:09.091244Z",
     "iopub.status.idle": "2023-01-15T12:17:09.105615Z",
     "shell.execute_reply": "2023-01-15T12:17:09.104529Z"
    },
    "papermill": {
     "duration": 0.026141,
     "end_time": "2023-01-15T12:17:09.107719",
     "exception": false,
     "start_time": "2023-01-15T12:17:09.081578",
     "status": "completed"
    },
    "tags": []
   },
   "outputs": [
    {
     "data": {
      "text/plain": [
       "<tf.Tensor: shape=(10,), dtype=int64, numpy=array([1, 1, 0, 0, 0, 1, 1, 0, 1, 1])>"
      ]
     },
     "execution_count": 12,
     "metadata": {},
     "output_type": "execute_result"
    }
   ],
   "source": [
    "labels[:10]"
   ]
  },
  {
   "cell_type": "code",
   "execution_count": 13,
   "id": "a8b2508e",
   "metadata": {
    "execution": {
     "iopub.execute_input": "2023-01-15T12:17:09.128282Z",
     "iopub.status.busy": "2023-01-15T12:17:09.127232Z",
     "iopub.status.idle": "2023-01-15T12:17:09.603121Z",
     "shell.execute_reply": "2023-01-15T12:17:09.601941Z"
    },
    "papermill": {
     "duration": 0.489065,
     "end_time": "2023-01-15T12:17:09.606009",
     "exception": false,
     "start_time": "2023-01-15T12:17:09.116944",
     "status": "completed"
    },
    "tags": []
   },
   "outputs": [
    {
     "data": {
      "image/png": "[encoded data removed]",
      "text/plain": [
       "<Figure size 576x288 with 2 Axes>"
      ]
     },
     "metadata": {
      "needs_background": "light"
     },
     "output_type": "display_data"
    }
   ],
   "source": [
    "idx = 0\n",
    "fig, axs = plt.subplots(ncols=2, figsize=(8, 4), sharey='all')\n",
    "fig.suptitle(f\"Label: {labels[idx].numpy()}\")\n",
    "kwargs_imshow = dict(aspect='auto', vmin=0.0, vmax=255.)\n",
    "axs[0].imshow(imgs[idx][..., 0], **kwargs_imshow)\n",
    "axs[0].set_title(\"h1\")\n",
    "axs[1].imshow(imgs[idx][..., 1], **kwargs_imshow)\n",
    "axs[1].set_title(\"l1\")\n",
    "plt.tight_layout()\n",
    "plt.show()"
   ]
  },
  {
   "cell_type": "markdown",
   "id": "9848e715",
   "metadata": {
    "papermill": {
     "duration": 0.010989,
     "end_time": "2023-01-15T12:17:09.628160",
     "exception": false,
     "start_time": "2023-01-15T12:17:09.617171",
     "status": "completed"
    },
    "tags": []
   },
   "source": [
    "# Neural network\n",
    "\n",
    "The pretrained TF model cannot directly handle 2 input channels (in contrast to ``timm`` as in [Basic spectrogram image classification](https://www.kaggle.com/code/junkoda/basic-spectrogram-image-classification)). Thus a prio ``1x1`` convolution is used to create a 3 channel input, similar as in [G2Net TF-Keras Train-Test With TPU](https://www.kaggle.com/code/itsuki9180/g2net-tf-keras-train-test-with-tpu).\n",
    "\n",
    "In this notebook we are using EfficientB3 with 360x360 input images. The model is trained with the Adam optimizer and the binary crossentropy loss function. The learning rate is set to 1e-4 and the model is trained for 10 epochs.\n",
    "\n",
    "EfficientNet is a convolutional neural network design and scaling technique that uses a compound coefficient to consistently scale all depth, breadth, and resolution parameters. The EfficientNet scaling approach evenly scales network breadth, depth, and resolution using a set of preset scaling coefficients, in contrast to standard practise, which scales these variables arbitrarily. For instance, to employ times more computing power, we may simply raise the network depth, width, and image size, where and are constant coefficients discovered via a tiny grid search on the initial small model. Network width, depth, and resolution are all uniformly scaled by EfficientNet using a compound coefficient."
   ]
  },
  {
   "cell_type": "code",
   "execution_count": 14,
   "id": "8111a8dd",
   "metadata": {
    "execution": {
     "iopub.execute_input": "2023-01-15T12:17:09.651496Z",
     "iopub.status.busy": "2023-01-15T12:17:09.650766Z",
     "iopub.status.idle": "2023-01-15T12:17:10.493376Z",
     "shell.execute_reply": "2023-01-15T12:17:10.492255Z"
    },
    "papermill": {
     "duration": 0.857077,
     "end_time": "2023-01-15T12:17:10.496020",
     "exception": false,
     "start_time": "2023-01-15T12:17:09.638943",
     "status": "completed"
    },
    "tags": []
   },
   "outputs": [],
   "source": [
    "from tensorflow.keras.applications.efficientnet import EfficientNetB3 as BaseModel\n",
    "from tensorflow.keras.applications.efficientnet import preprocess_input\n",
    "from tensorflow.keras import layers, Model, Input, losses, metrics, optimizers, callbacks"
   ]
  },
  {
   "cell_type": "code",
   "execution_count": 15,
   "id": "de520a02",
   "metadata": {
    "execution": {
     "iopub.execute_input": "2023-01-15T12:17:10.519661Z",
     "iopub.status.busy": "2023-01-15T12:17:10.519353Z",
     "iopub.status.idle": "2023-01-15T12:17:10.528882Z",
     "shell.execute_reply": "2023-01-15T12:17:10.528028Z"
    },
    "papermill": {
     "duration": 0.023514,
     "end_time": "2023-01-15T12:17:10.530963",
     "exception": false,
     "start_time": "2023-01-15T12:17:10.507449",
     "status": "completed"
    },
    "tags": []
   },
   "outputs": [],
   "source": [
    "## Unfreeze model\n",
    "### Here we unfreeze the base model and freeze the BatchNormalization layers.\n",
    "def unfreeze_model(model):\n",
    "    for layer in model.layers:\n",
    "        if not isinstance(layer, tf.keras.layers.BatchNormalization):\n",
    "            layer.trainable = True\n",
    "        else:\n",
    "            layer.trainable = False\n",
    "\n",
    "\n",
    "def create_model():    \n",
    "    # Input   \n",
    "    inputs = Input(shape=cfg.img_shape, dtype=tf.float32)\n",
    "    x = layers.Conv2D(3, 1, name='adjustment')(inputs)\n",
    "    x = layers.Lambda(preprocess_input, name=\"preprocess_input\")(x)\n",
    "    base_model = BaseModel(include_top=False, weights=cfg.base_model_weights, pooling=\"avg\")\n",
    "    base_model.trainable = False\n",
    "    # unfreeze_model(base_model)\n",
    "    x = base_model(x)\n",
    "    x = layers.BatchNormalization()(x)\n",
    "    x = layers.Dropout(cfg.dropout, name=\"top_dropout\")(x)\n",
    "    outputs = layers.Dense(1, activation=\"sigmoid\", name=\"logits\")(x)\n",
    "    model = Model(inputs=inputs, outputs=outputs, name=cfg.model_name)\n",
    "    model.compile(\n",
    "        optimizer=optimizers.Adam(learning_rate=cfg.lr),\n",
    "        loss=losses.BinaryCrossentropy(), \n",
    "        metrics=['acc']\n",
    "    )\n",
    "    return model"
   ]
  },
  {
   "cell_type": "code",
   "execution_count": 16,
   "id": "bba15478",
   "metadata": {
    "execution": {
     "iopub.execute_input": "2023-01-15T12:17:10.553375Z",
     "iopub.status.busy": "2023-01-15T12:17:10.553121Z",
     "iopub.status.idle": "2023-01-15T12:17:14.537302Z",
     "shell.execute_reply": "2023-01-15T12:17:14.532527Z"
    },
    "papermill": {
     "duration": 3.99956,
     "end_time": "2023-01-15T12:17:14.541193",
     "exception": false,
     "start_time": "2023-01-15T12:17:10.541633",
     "status": "completed"
    },
    "tags": []
   },
   "outputs": [
    {
     "name": "stdout",
     "output_type": "stream",
     "text": [
      "Downloading data from https://storage.googleapis.com/keras-applications/efficientnetb3_notop.h5\n",
      "43941888/43941136 [==============================] - 0s 0us/step\n",
      "43950080/43941136 [==============================] - 0s 0us/step\n",
      "Model: \"enetb3_v1\"\n",
      "_________________________________________________________________\n",
      "Layer (type)                 Output Shape              Param #   \n",
      "=================================================================\n",
      "input_1 (InputLayer)         [(None, 360, 360, 2)]     0         \n",
      "_________________________________________________________________\n",
      "adjustment (Conv2D)          (None, 360, 360, 3)       9         \n",
      "_________________________________________________________________\n",
      "preprocess_input (Lambda)    (None, 360, 360, 3)       0         \n",
      "_________________________________________________________________\n",
      "efficientnetb3 (Functional)  (None, 1536)              10783535  \n",
      "_________________________________________________________________\n",
      "batch_normalization (BatchNo (None, 1536)              6144      \n",
      "_________________________________________________________________\n",
      "top_dropout (Dropout)        (None, 1536)              0         \n",
      "_________________________________________________________________\n",
      "logits (Dense)               (None, 1)                 1537      \n",
      "=================================================================\n",
      "Total params: 10,791,225\n",
      "Trainable params: 4,618\n",
      "Non-trainable params: 10,786,607\n",
      "_________________________________________________________________\n"
     ]
    }
   ],
   "source": [
    "tf.keras.backend.clear_session()\n",
    "with strategy.scope():\n",
    "    model = create_model()\n",
    "model.summary()"
   ]
  },
  {
   "cell_type": "markdown",
   "id": "d55dff0b",
   "metadata": {
    "execution": {
     "iopub.execute_input": "2022-11-19T09:49:48.999677Z",
     "iopub.status.busy": "2022-11-19T09:49:48.999348Z",
     "iopub.status.idle": "2022-11-19T09:49:52.017972Z",
     "shell.execute_reply": "2022-11-19T09:49:52.016952Z",
     "shell.execute_reply.started": "2022-11-19T09:49:48.999641Z"
    },
    "papermill": {
     "duration": 0.012042,
     "end_time": "2023-01-15T12:17:14.570693",
     "exception": false,
     "start_time": "2023-01-15T12:17:14.558651",
     "status": "completed"
    },
    "tags": []
   },
   "source": [
    "#### Check model"
   ]
  },
  {
   "cell_type": "code",
   "execution_count": 17,
   "id": "9835f822",
   "metadata": {
    "execution": {
     "iopub.execute_input": "2023-01-15T12:17:14.596459Z",
     "iopub.status.busy": "2023-01-15T12:17:14.596145Z",
     "iopub.status.idle": "2023-01-15T12:17:23.350632Z",
     "shell.execute_reply": "2023-01-15T12:17:23.349718Z"
    },
    "papermill": {
     "duration": 8.769539,
     "end_time": "2023-01-15T12:17:23.352863",
     "exception": false,
     "start_time": "2023-01-15T12:17:14.583324",
     "status": "completed"
    },
    "tags": []
   },
   "outputs": [
    {
     "data": {
      "text/plain": [
       "array([[0.35648742],\n",
       "       [0.53010625],\n",
       "       [0.4232769 ],\n",
       "       [0.39307195],\n",
       "       [0.5253041 ],\n",
       "       [0.53098667],\n",
       "       [0.52689224],\n",
       "       [0.52463555],\n",
       "       [0.3943216 ],\n",
       "       [0.5296742 ]], dtype=float32)"
      ]
     },
     "execution_count": 17,
     "metadata": {},
     "output_type": "execute_result"
    }
   ],
   "source": [
    "## Generates output predictions for the input samples.\n",
    "model.predict(imgs)[:10]"
   ]
  },
  {
   "cell_type": "code",
   "execution_count": 18,
   "id": "4d12fc2c",
   "metadata": {
    "execution": {
     "iopub.execute_input": "2023-01-15T12:17:23.377172Z",
     "iopub.status.busy": "2023-01-15T12:17:23.376864Z",
     "iopub.status.idle": "2023-01-15T12:17:26.577205Z",
     "shell.execute_reply": "2023-01-15T12:17:26.575864Z"
    },
    "papermill": {
     "duration": 3.214697,
     "end_time": "2023-01-15T12:17:26.579619",
     "exception": false,
     "start_time": "2023-01-15T12:17:23.364922",
     "status": "completed"
    },
    "tags": []
   },
   "outputs": [
    {
     "name": "stdout",
     "output_type": "stream",
     "text": [
      "1/1 [==============================] - 3s 3s/step - loss: 0.7082 - acc: 0.5000\n"
     ]
    },
    {
     "data": {
      "text/plain": [
       "{'loss': 0.7082251310348511, 'acc': 0.5}"
      ]
     },
     "execution_count": 18,
     "metadata": {},
     "output_type": "execute_result"
    }
   ],
   "source": [
    "## Returns the loss value & metrics values (Accuracy) for the model in test mode.\n",
    "model.evaluate(imgs, labels, return_dict=True)"
   ]
  },
  {
   "cell_type": "markdown",
   "id": "b0304525",
   "metadata": {
    "papermill": {
     "duration": 0.012886,
     "end_time": "2023-01-15T12:17:26.610052",
     "exception": false,
     "start_time": "2023-01-15T12:17:26.597166",
     "status": "completed"
    },
    "tags": []
   },
   "source": [
    "# Training"
   ]
  },
  {
   "cell_type": "code",
   "execution_count": 19,
   "id": "7ef4e380",
   "metadata": {
    "execution": {
     "iopub.execute_input": "2023-01-15T12:17:26.638498Z",
     "iopub.status.busy": "2023-01-15T12:17:26.638156Z",
     "iopub.status.idle": "2023-01-15T12:17:26.647469Z",
     "shell.execute_reply": "2023-01-15T12:17:26.646305Z"
    },
    "papermill": {
     "duration": 0.026612,
     "end_time": "2023-01-15T12:17:26.649754",
     "exception": false,
     "start_time": "2023-01-15T12:17:26.623142",
     "status": "completed"
    },
    "tags": []
   },
   "outputs": [],
   "source": [
    "def get_callbacks():\n",
    "    cbs = [\n",
    "        callbacks.EarlyStopping(\n",
    "            monitor=\"val_loss\",\n",
    "            verbose=1,\n",
    "            patience=cfg.patience,\n",
    "            restore_best_weights=True,\n",
    "        ),\n",
    "    ]\n",
    "    return cbs\n",
    "##  The EarlyStopping callback is a standard callback that stops training when the validation loss has not improved for a specified number\n",
    "##  of epochs and restores the best weights found during training.\n",
    "\n",
    "def show_history(history):\n",
    "    history_frame = pd.DataFrame(history.history)\n",
    "    history_frame.index = pd.RangeIndex(1, len(history_frame) + 1, name=\"epoch\")\n",
    "    display(history_frame.style\\\n",
    "        .highlight_min(color='lightgreen', subset=['val_loss'])\\\n",
    "        .highlight_max(color='lightgreen', subset=['val_acc'])\n",
    "    )\n",
    "    fig, ax = plt.subplots(1, 2, figsize=(16, 6))\n",
    "    history_frame.loc[:, ['loss', 'val_loss']].plot(ax=ax[0], title='loss')\n",
    "    history_frame.loc[:, ['acc', 'val_acc']].plot(ax=ax[1], title='acc')\n",
    "    plt.tight_layout()\n",
    "    plt.show()"
   ]
  },
  {
   "cell_type": "code",
   "execution_count": 20,
   "id": "2d044f79",
   "metadata": {
    "execution": {
     "iopub.execute_input": "2023-01-15T12:17:26.677703Z",
     "iopub.status.busy": "2023-01-15T12:17:26.676821Z",
     "iopub.status.idle": "2023-01-15T12:17:26.683511Z",
     "shell.execute_reply": "2023-01-15T12:17:26.682104Z"
    },
    "papermill": {
     "duration": 0.023145,
     "end_time": "2023-01-15T12:17:26.685792",
     "exception": false,
     "start_time": "2023-01-15T12:17:26.662647",
     "status": "completed"
    },
    "tags": []
   },
   "outputs": [
    {
     "name": "stdout",
     "output_type": "stream",
     "text": [
      "steps per epoch: 95\n"
     ]
    }
   ],
   "source": [
    "## Steps per epoch\n",
    "train_steps = count_data_items(train_files) // cfg.batch_size\n",
    "print(\"steps per epoch:\", train_steps)"
   ]
  },
  {
   "cell_type": "code",
   "execution_count": 21,
   "id": "acdee897",
   "metadata": {
    "execution": {
     "iopub.execute_input": "2023-01-15T12:17:26.714259Z",
     "iopub.status.busy": "2023-01-15T12:17:26.713254Z",
     "iopub.status.idle": "2023-01-15T12:50:16.330575Z",
     "shell.execute_reply": "2023-01-15T12:50:16.328833Z"
    },
    "papermill": {
     "duration": 1969.634665,
     "end_time": "2023-01-15T12:50:16.333871",
     "exception": false,
     "start_time": "2023-01-15T12:17:26.699206",
     "status": "completed"
    },
    "tags": []
   },
   "outputs": [
    {
     "name": "stdout",
     "output_type": "stream",
     "text": [
      "Epoch 1/200\n",
      "95/95 [==============================] - 77s 643ms/step - loss: 0.5288 - acc: 0.7454 - val_loss: 0.5543 - val_acc: 0.7850\n",
      "Epoch 2/200\n",
      "95/95 [==============================] - 56s 590ms/step - loss: 0.4900 - acc: 0.7730 - val_loss: 0.5041 - val_acc: 0.7811\n",
      "Epoch 3/200\n",
      "95/95 [==============================] - 48s 508ms/step - loss: 0.5002 - acc: 0.7572 - val_loss: 0.5008 - val_acc: 0.7870\n",
      "Epoch 4/200\n",
      "95/95 [==============================] - 45s 479ms/step - loss: 0.4928 - acc: 0.7737 - val_loss: 0.4663 - val_acc: 0.7890\n",
      "Epoch 5/200\n",
      "95/95 [==============================] - 44s 468ms/step - loss: 0.4577 - acc: 0.7961 - val_loss: 0.4638 - val_acc: 0.7890\n",
      "Epoch 6/200\n",
      "95/95 [==============================] - 52s 547ms/step - loss: 0.4658 - acc: 0.7882 - val_loss: 0.4531 - val_acc: 0.7909\n",
      "Epoch 7/200\n",
      "95/95 [==============================] - 44s 463ms/step - loss: 0.4758 - acc: 0.7763 - val_loss: 0.4554 - val_acc: 0.7949\n",
      "Epoch 8/200\n",
      "95/95 [==============================] - 52s 549ms/step - loss: 0.4639 - acc: 0.7743 - val_loss: 0.4603 - val_acc: 0.7929\n",
      "Epoch 9/200\n",
      "95/95 [==============================] - 45s 470ms/step - loss: 0.4622 - acc: 0.7822 - val_loss: 0.4504 - val_acc: 0.7968\n",
      "Epoch 10/200\n",
      "95/95 [==============================] - 47s 499ms/step - loss: 0.4535 - acc: 0.7928 - val_loss: 0.4926 - val_acc: 0.7929\n",
      "Epoch 11/200\n",
      "95/95 [==============================] - 46s 485ms/step - loss: 0.4552 - acc: 0.7908 - val_loss: 0.4724 - val_acc: 0.7988\n",
      "Epoch 12/200\n",
      "95/95 [==============================] - 45s 474ms/step - loss: 0.4458 - acc: 0.7901 - val_loss: 0.4604 - val_acc: 0.7949\n",
      "Epoch 13/200\n",
      "95/95 [==============================] - 52s 550ms/step - loss: 0.4455 - acc: 0.7822 - val_loss: 0.4530 - val_acc: 0.8008\n",
      "Epoch 14/200\n",
      "95/95 [==============================] - 45s 473ms/step - loss: 0.4390 - acc: 0.7895 - val_loss: 0.4566 - val_acc: 0.7988\n",
      "Epoch 15/200\n",
      "95/95 [==============================] - 45s 474ms/step - loss: 0.4328 - acc: 0.7961 - val_loss: 0.4635 - val_acc: 0.8008\n",
      "Epoch 16/200\n",
      "95/95 [==============================] - 45s 480ms/step - loss: 0.4323 - acc: 0.7987 - val_loss: 0.4503 - val_acc: 0.7929\n",
      "Epoch 17/200\n",
      "95/95 [==============================] - 44s 467ms/step - loss: 0.4482 - acc: 0.7789 - val_loss: 0.4368 - val_acc: 0.8008\n",
      "Epoch 18/200\n",
      "95/95 [==============================] - 52s 549ms/step - loss: 0.4393 - acc: 0.7928 - val_loss: 0.4333 - val_acc: 0.8008\n",
      "Epoch 19/200\n",
      "95/95 [==============================] - 45s 471ms/step - loss: 0.4324 - acc: 0.8007 - val_loss: 0.4395 - val_acc: 0.7988\n",
      "Epoch 20/200\n",
      "95/95 [==============================] - 45s 479ms/step - loss: 0.4394 - acc: 0.7895 - val_loss: 0.4407 - val_acc: 0.8008\n",
      "Epoch 21/200\n",
      "95/95 [==============================] - 52s 551ms/step - loss: 0.4526 - acc: 0.7842 - val_loss: 0.4414 - val_acc: 0.7968\n",
      "Epoch 22/200\n",
      "95/95 [==============================] - 52s 549ms/step - loss: 0.4375 - acc: 0.7967 - val_loss: 0.4552 - val_acc: 0.7949\n",
      "Epoch 23/200\n",
      "95/95 [==============================] - 44s 468ms/step - loss: 0.4512 - acc: 0.7842 - val_loss: 0.4409 - val_acc: 0.8067\n",
      "Epoch 24/200\n",
      "95/95 [==============================] - 45s 471ms/step - loss: 0.4329 - acc: 0.7934 - val_loss: 0.4370 - val_acc: 0.7830\n",
      "Epoch 25/200\n",
      "95/95 [==============================] - 52s 552ms/step - loss: 0.4321 - acc: 0.7908 - val_loss: 0.4479 - val_acc: 0.8107\n",
      "Epoch 26/200\n",
      "95/95 [==============================] - 44s 468ms/step - loss: 0.4341 - acc: 0.7987 - val_loss: 0.4502 - val_acc: 0.7968\n",
      "Epoch 27/200\n",
      "95/95 [==============================] - 43s 459ms/step - loss: 0.4360 - acc: 0.8000 - val_loss: 0.4336 - val_acc: 0.7949\n",
      "Epoch 28/200\n",
      "95/95 [==============================] - 45s 470ms/step - loss: 0.4431 - acc: 0.7908 - val_loss: 0.4273 - val_acc: 0.7968\n",
      "Epoch 29/200\n",
      "95/95 [==============================] - 44s 464ms/step - loss: 0.4214 - acc: 0.8000 - val_loss: 0.4405 - val_acc: 0.7968\n",
      "Epoch 30/200\n",
      "95/95 [==============================] - 44s 469ms/step - loss: 0.4503 - acc: 0.7776 - val_loss: 0.4361 - val_acc: 0.7909\n",
      "Epoch 31/200\n",
      "95/95 [==============================] - 52s 548ms/step - loss: 0.4444 - acc: 0.7908 - val_loss: 0.4266 - val_acc: 0.8067\n",
      "Epoch 32/200\n",
      "95/95 [==============================] - 52s 548ms/step - loss: 0.4285 - acc: 0.7908 - val_loss: 0.4308 - val_acc: 0.8028\n",
      "Epoch 33/200\n",
      "95/95 [==============================] - 44s 468ms/step - loss: 0.4097 - acc: 0.8145 - val_loss: 0.4380 - val_acc: 0.7870\n",
      "Epoch 34/200\n",
      "95/95 [==============================] - 52s 548ms/step - loss: 0.4343 - acc: 0.8000 - val_loss: 0.4348 - val_acc: 0.7949\n",
      "Epoch 35/200\n",
      "95/95 [==============================] - 44s 465ms/step - loss: 0.4344 - acc: 0.7941 - val_loss: 0.4463 - val_acc: 0.7830\n",
      "Epoch 36/200\n",
      "95/95 [==============================] - 45s 470ms/step - loss: 0.4394 - acc: 0.7882 - val_loss: 0.4332 - val_acc: 0.7850\n",
      "Epoch 37/200\n",
      "95/95 [==============================] - 44s 468ms/step - loss: 0.4151 - acc: 0.8092 - val_loss: 0.4397 - val_acc: 0.8028\n",
      "Epoch 38/200\n",
      "95/95 [==============================] - 44s 469ms/step - loss: 0.4194 - acc: 0.7954 - val_loss: 0.4333 - val_acc: 0.7870\n",
      "Epoch 39/200\n",
      "95/95 [==============================] - 45s 478ms/step - loss: 0.4331 - acc: 0.7954 - val_loss: 0.4723 - val_acc: 0.7712\n",
      "Epoch 40/200\n",
      "95/95 [==============================] - 52s 550ms/step - loss: 0.4274 - acc: 0.7980 - val_loss: 0.4464 - val_acc: 0.7909\n",
      "Epoch 41/200\n",
      "95/95 [==============================] - 52s 549ms/step - loss: 0.4092 - acc: 0.8059 - val_loss: 0.4284 - val_acc: 0.7909\n",
      "Restoring model weights from the end of the best epoch.\n",
      "Epoch 00041: early stopping\n",
      "CPU times: user 31min 13s, sys: 4min 23s, total: 35min 37s\n",
      "Wall time: 32min 49s\n"
     ]
    }
   ],
   "source": [
    "%%time\n",
    "history = model.fit(\n",
    "    train_ds, \n",
    "    epochs=cfg.epochs,\n",
    "    steps_per_epoch=train_steps,\n",
    "    validation_data=valid_ds,\n",
    "    callbacks=get_callbacks(),\n",
    "    verbose=1\n",
    ")"
   ]
  },
  {
   "cell_type": "code",
   "execution_count": 22,
   "id": "0dbddb55",
   "metadata": {
    "execution": {
     "iopub.execute_input": "2023-01-15T12:50:16.863539Z",
     "iopub.status.busy": "2023-01-15T12:50:16.862544Z",
     "iopub.status.idle": "2023-01-15T12:50:58.685559Z",
     "shell.execute_reply": "2023-01-15T12:50:58.684468Z"
    },
    "papermill": {
     "duration": 42.038867,
     "end_time": "2023-01-15T12:50:58.688975",
     "exception": false,
     "start_time": "2023-01-15T12:50:16.650108",
     "status": "completed"
    },
    "tags": []
   },
   "outputs": [
    {
     "data": {
      "text/html": [
       "<style type=\"text/css\">\n",
       "#T_465c0_row24_col3, #T_465c0_row30_col2 {\n",
       "  background-color: lightgreen;\n",
       "}\n",
       "</style>\n",
       "<table id=\"T_465c0_\">\n",
       "  <thead>\n",
       "    <tr>\n",
       "      <th class=\"blank level0\" >&nbsp;</th>\n",
       "      <th class=\"col_heading level0 col0\" >loss</th>\n",
       "      <th class=\"col_heading level0 col1\" >acc</th>\n",
       "      <th class=\"col_heading level0 col2\" >val_loss</th>\n",
       "      <th class=\"col_heading level0 col3\" >val_acc</th>\n",
       "    </tr>\n",
       "    <tr>\n",
       "      <th class=\"index_name level0\" >epoch</th>\n",
       "      <th class=\"blank col0\" >&nbsp;</th>\n",
       "      <th class=\"blank col1\" >&nbsp;</th>\n",
       "      <th class=\"blank col2\" >&nbsp;</th>\n",
       "      <th class=\"blank col3\" >&nbsp;</th>\n",
       "    </tr>\n",
       "  </thead>\n",
       "  <tbody>\n",
       "    <tr>\n",
       "      <th id=\"T_465c0_level0_row0\" class=\"row_heading level0 row0\" >1</th>\n",
       "      <td id=\"T_465c0_row0_col0\" class=\"data row0 col0\" >0.528806</td>\n",
       "      <td id=\"T_465c0_row0_col1\" class=\"data row0 col1\" >0.745395</td>\n",
       "      <td id=\"T_465c0_row0_col2\" class=\"data row0 col2\" >0.554313</td>\n",
       "      <td id=\"T_465c0_row0_col3\" class=\"data row0 col3\" >0.785010</td>\n",
       "    </tr>\n",
       "    <tr>\n",
       "      <th id=\"T_465c0_level0_row1\" class=\"row_heading level0 row1\" >2</th>\n",
       "      <td id=\"T_465c0_row1_col0\" class=\"data row1 col0\" >0.489955</td>\n",
       "      <td id=\"T_465c0_row1_col1\" class=\"data row1 col1\" >0.773026</td>\n",
       "      <td id=\"T_465c0_row1_col2\" class=\"data row1 col2\" >0.504085</td>\n",
       "      <td id=\"T_465c0_row1_col3\" class=\"data row1 col3\" >0.781065</td>\n",
       "    </tr>\n",
       "    <tr>\n",
       "      <th id=\"T_465c0_level0_row2\" class=\"row_heading level0 row2\" >3</th>\n",
       "      <td id=\"T_465c0_row2_col0\" class=\"data row2 col0\" >0.500215</td>\n",
       "      <td id=\"T_465c0_row2_col1\" class=\"data row2 col1\" >0.757237</td>\n",
       "      <td id=\"T_465c0_row2_col2\" class=\"data row2 col2\" >0.500842</td>\n",
       "      <td id=\"T_465c0_row2_col3\" class=\"data row2 col3\" >0.786982</td>\n",
       "    </tr>\n",
       "    <tr>\n",
       "      <th id=\"T_465c0_level0_row3\" class=\"row_heading level0 row3\" >4</th>\n",
       "      <td id=\"T_465c0_row3_col0\" class=\"data row3 col0\" >0.492841</td>\n",
       "      <td id=\"T_465c0_row3_col1\" class=\"data row3 col1\" >0.773684</td>\n",
       "      <td id=\"T_465c0_row3_col2\" class=\"data row3 col2\" >0.466285</td>\n",
       "      <td id=\"T_465c0_row3_col3\" class=\"data row3 col3\" >0.788955</td>\n",
       "    </tr>\n",
       "    <tr>\n",
       "      <th id=\"T_465c0_level0_row4\" class=\"row_heading level0 row4\" >5</th>\n",
       "      <td id=\"T_465c0_row4_col0\" class=\"data row4 col0\" >0.457748</td>\n",
       "      <td id=\"T_465c0_row4_col1\" class=\"data row4 col1\" >0.796053</td>\n",
       "      <td id=\"T_465c0_row4_col2\" class=\"data row4 col2\" >0.463797</td>\n",
       "      <td id=\"T_465c0_row4_col3\" class=\"data row4 col3\" >0.788955</td>\n",
       "    </tr>\n",
       "    <tr>\n",
       "      <th id=\"T_465c0_level0_row5\" class=\"row_heading level0 row5\" >6</th>\n",
       "      <td id=\"T_465c0_row5_col0\" class=\"data row5 col0\" >0.465809</td>\n",
       "      <td id=\"T_465c0_row5_col1\" class=\"data row5 col1\" >0.788158</td>\n",
       "      <td id=\"T_465c0_row5_col2\" class=\"data row5 col2\" >0.453119</td>\n",
       "      <td id=\"T_465c0_row5_col3\" class=\"data row5 col3\" >0.790927</td>\n",
       "    </tr>\n",
       "    <tr>\n",
       "      <th id=\"T_465c0_level0_row6\" class=\"row_heading level0 row6\" >7</th>\n",
       "      <td id=\"T_465c0_row6_col0\" class=\"data row6 col0\" >0.475838</td>\n",
       "      <td id=\"T_465c0_row6_col1\" class=\"data row6 col1\" >0.776316</td>\n",
       "      <td id=\"T_465c0_row6_col2\" class=\"data row6 col2\" >0.455379</td>\n",
       "      <td id=\"T_465c0_row6_col3\" class=\"data row6 col3\" >0.794872</td>\n",
       "    </tr>\n",
       "    <tr>\n",
       "      <th id=\"T_465c0_level0_row7\" class=\"row_heading level0 row7\" >8</th>\n",
       "      <td id=\"T_465c0_row7_col0\" class=\"data row7 col0\" >0.463895</td>\n",
       "      <td id=\"T_465c0_row7_col1\" class=\"data row7 col1\" >0.774342</td>\n",
       "      <td id=\"T_465c0_row7_col2\" class=\"data row7 col2\" >0.460315</td>\n",
       "      <td id=\"T_465c0_row7_col3\" class=\"data row7 col3\" >0.792899</td>\n",
       "    </tr>\n",
       "    <tr>\n",
       "      <th id=\"T_465c0_level0_row8\" class=\"row_heading level0 row8\" >9</th>\n",
       "      <td id=\"T_465c0_row8_col0\" class=\"data row8 col0\" >0.462177</td>\n",
       "      <td id=\"T_465c0_row8_col1\" class=\"data row8 col1\" >0.782237</td>\n",
       "      <td id=\"T_465c0_row8_col2\" class=\"data row8 col2\" >0.450361</td>\n",
       "      <td id=\"T_465c0_row8_col3\" class=\"data row8 col3\" >0.796844</td>\n",
       "    </tr>\n",
       "    <tr>\n",
       "      <th id=\"T_465c0_level0_row9\" class=\"row_heading level0 row9\" >10</th>\n",
       "      <td id=\"T_465c0_row9_col0\" class=\"data row9 col0\" >0.453500</td>\n",
       "      <td id=\"T_465c0_row9_col1\" class=\"data row9 col1\" >0.792763</td>\n",
       "      <td id=\"T_465c0_row9_col2\" class=\"data row9 col2\" >0.492590</td>\n",
       "      <td id=\"T_465c0_row9_col3\" class=\"data row9 col3\" >0.792899</td>\n",
       "    </tr>\n",
       "    <tr>\n",
       "      <th id=\"T_465c0_level0_row10\" class=\"row_heading level0 row10\" >11</th>\n",
       "      <td id=\"T_465c0_row10_col0\" class=\"data row10 col0\" >0.455220</td>\n",
       "      <td id=\"T_465c0_row10_col1\" class=\"data row10 col1\" >0.790789</td>\n",
       "      <td id=\"T_465c0_row10_col2\" class=\"data row10 col2\" >0.472373</td>\n",
       "      <td id=\"T_465c0_row10_col3\" class=\"data row10 col3\" >0.798817</td>\n",
       "    </tr>\n",
       "    <tr>\n",
       "      <th id=\"T_465c0_level0_row11\" class=\"row_heading level0 row11\" >12</th>\n",
       "      <td id=\"T_465c0_row11_col0\" class=\"data row11 col0\" >0.445762</td>\n",
       "      <td id=\"T_465c0_row11_col1\" class=\"data row11 col1\" >0.790132</td>\n",
       "      <td id=\"T_465c0_row11_col2\" class=\"data row11 col2\" >0.460407</td>\n",
       "      <td id=\"T_465c0_row11_col3\" class=\"data row11 col3\" >0.794872</td>\n",
       "    </tr>\n",
       "    <tr>\n",
       "      <th id=\"T_465c0_level0_row12\" class=\"row_heading level0 row12\" >13</th>\n",
       "      <td id=\"T_465c0_row12_col0\" class=\"data row12 col0\" >0.445486</td>\n",
       "      <td id=\"T_465c0_row12_col1\" class=\"data row12 col1\" >0.782237</td>\n",
       "      <td id=\"T_465c0_row12_col2\" class=\"data row12 col2\" >0.452970</td>\n",
       "      <td id=\"T_465c0_row12_col3\" class=\"data row12 col3\" >0.800789</td>\n",
       "    </tr>\n",
       "    <tr>\n",
       "      <th id=\"T_465c0_level0_row13\" class=\"row_heading level0 row13\" >14</th>\n",
       "      <td id=\"T_465c0_row13_col0\" class=\"data row13 col0\" >0.439034</td>\n",
       "      <td id=\"T_465c0_row13_col1\" class=\"data row13 col1\" >0.789474</td>\n",
       "      <td id=\"T_465c0_row13_col2\" class=\"data row13 col2\" >0.456609</td>\n",
       "      <td id=\"T_465c0_row13_col3\" class=\"data row13 col3\" >0.798817</td>\n",
       "    </tr>\n",
       "    <tr>\n",
       "      <th id=\"T_465c0_level0_row14\" class=\"row_heading level0 row14\" >15</th>\n",
       "      <td id=\"T_465c0_row14_col0\" class=\"data row14 col0\" >0.432752</td>\n",
       "      <td id=\"T_465c0_row14_col1\" class=\"data row14 col1\" >0.796053</td>\n",
       "      <td id=\"T_465c0_row14_col2\" class=\"data row14 col2\" >0.463455</td>\n",
       "      <td id=\"T_465c0_row14_col3\" class=\"data row14 col3\" >0.800789</td>\n",
       "    </tr>\n",
       "    <tr>\n",
       "      <th id=\"T_465c0_level0_row15\" class=\"row_heading level0 row15\" >16</th>\n",
       "      <td id=\"T_465c0_row15_col0\" class=\"data row15 col0\" >0.432320</td>\n",
       "      <td id=\"T_465c0_row15_col1\" class=\"data row15 col1\" >0.798684</td>\n",
       "      <td id=\"T_465c0_row15_col2\" class=\"data row15 col2\" >0.450335</td>\n",
       "      <td id=\"T_465c0_row15_col3\" class=\"data row15 col3\" >0.792899</td>\n",
       "    </tr>\n",
       "    <tr>\n",
       "      <th id=\"T_465c0_level0_row16\" class=\"row_heading level0 row16\" >17</th>\n",
       "      <td id=\"T_465c0_row16_col0\" class=\"data row16 col0\" >0.448176</td>\n",
       "      <td id=\"T_465c0_row16_col1\" class=\"data row16 col1\" >0.778947</td>\n",
       "      <td id=\"T_465c0_row16_col2\" class=\"data row16 col2\" >0.436761</td>\n",
       "      <td id=\"T_465c0_row16_col3\" class=\"data row16 col3\" >0.800789</td>\n",
       "    </tr>\n",
       "    <tr>\n",
       "      <th id=\"T_465c0_level0_row17\" class=\"row_heading level0 row17\" >18</th>\n",
       "      <td id=\"T_465c0_row17_col0\" class=\"data row17 col0\" >0.439278</td>\n",
       "      <td id=\"T_465c0_row17_col1\" class=\"data row17 col1\" >0.792763</td>\n",
       "      <td id=\"T_465c0_row17_col2\" class=\"data row17 col2\" >0.433268</td>\n",
       "      <td id=\"T_465c0_row17_col3\" class=\"data row17 col3\" >0.800789</td>\n",
       "    </tr>\n",
       "    <tr>\n",
       "      <th id=\"T_465c0_level0_row18\" class=\"row_heading level0 row18\" >19</th>\n",
       "      <td id=\"T_465c0_row18_col0\" class=\"data row18 col0\" >0.432378</td>\n",
       "      <td id=\"T_465c0_row18_col1\" class=\"data row18 col1\" >0.800658</td>\n",
       "      <td id=\"T_465c0_row18_col2\" class=\"data row18 col2\" >0.439473</td>\n",
       "      <td id=\"T_465c0_row18_col3\" class=\"data row18 col3\" >0.798817</td>\n",
       "    </tr>\n",
       "    <tr>\n",
       "      <th id=\"T_465c0_level0_row19\" class=\"row_heading level0 row19\" >20</th>\n",
       "      <td id=\"T_465c0_row19_col0\" class=\"data row19 col0\" >0.439372</td>\n",
       "      <td id=\"T_465c0_row19_col1\" class=\"data row19 col1\" >0.789474</td>\n",
       "      <td id=\"T_465c0_row19_col2\" class=\"data row19 col2\" >0.440706</td>\n",
       "      <td id=\"T_465c0_row19_col3\" class=\"data row19 col3\" >0.800789</td>\n",
       "    </tr>\n",
       "    <tr>\n",
       "      <th id=\"T_465c0_level0_row20\" class=\"row_heading level0 row20\" >21</th>\n",
       "      <td id=\"T_465c0_row20_col0\" class=\"data row20 col0\" >0.452588</td>\n",
       "      <td id=\"T_465c0_row20_col1\" class=\"data row20 col1\" >0.784211</td>\n",
       "      <td id=\"T_465c0_row20_col2\" class=\"data row20 col2\" >0.441430</td>\n",
       "      <td id=\"T_465c0_row20_col3\" class=\"data row20 col3\" >0.796844</td>\n",
       "    </tr>\n",
       "    <tr>\n",
       "      <th id=\"T_465c0_level0_row21\" class=\"row_heading level0 row21\" >22</th>\n",
       "      <td id=\"T_465c0_row21_col0\" class=\"data row21 col0\" >0.437500</td>\n",
       "      <td id=\"T_465c0_row21_col1\" class=\"data row21 col1\" >0.796711</td>\n",
       "      <td id=\"T_465c0_row21_col2\" class=\"data row21 col2\" >0.455200</td>\n",
       "      <td id=\"T_465c0_row21_col3\" class=\"data row21 col3\" >0.794872</td>\n",
       "    </tr>\n",
       "    <tr>\n",
       "      <th id=\"T_465c0_level0_row22\" class=\"row_heading level0 row22\" >23</th>\n",
       "      <td id=\"T_465c0_row22_col0\" class=\"data row22 col0\" >0.451223</td>\n",
       "      <td id=\"T_465c0_row22_col1\" class=\"data row22 col1\" >0.784211</td>\n",
       "      <td id=\"T_465c0_row22_col2\" class=\"data row22 col2\" >0.440900</td>\n",
       "      <td id=\"T_465c0_row22_col3\" class=\"data row22 col3\" >0.806706</td>\n",
       "    </tr>\n",
       "    <tr>\n",
       "      <th id=\"T_465c0_level0_row23\" class=\"row_heading level0 row23\" >24</th>\n",
       "      <td id=\"T_465c0_row23_col0\" class=\"data row23 col0\" >0.432884</td>\n",
       "      <td id=\"T_465c0_row23_col1\" class=\"data row23 col1\" >0.793421</td>\n",
       "      <td id=\"T_465c0_row23_col2\" class=\"data row23 col2\" >0.436991</td>\n",
       "      <td id=\"T_465c0_row23_col3\" class=\"data row23 col3\" >0.783037</td>\n",
       "    </tr>\n",
       "    <tr>\n",
       "      <th id=\"T_465c0_level0_row24\" class=\"row_heading level0 row24\" >25</th>\n",
       "      <td id=\"T_465c0_row24_col0\" class=\"data row24 col0\" >0.432148</td>\n",
       "      <td id=\"T_465c0_row24_col1\" class=\"data row24 col1\" >0.790789</td>\n",
       "      <td id=\"T_465c0_row24_col2\" class=\"data row24 col2\" >0.447926</td>\n",
       "      <td id=\"T_465c0_row24_col3\" class=\"data row24 col3\" >0.810651</td>\n",
       "    </tr>\n",
       "    <tr>\n",
       "      <th id=\"T_465c0_level0_row25\" class=\"row_heading level0 row25\" >26</th>\n",
       "      <td id=\"T_465c0_row25_col0\" class=\"data row25 col0\" >0.434050</td>\n",
       "      <td id=\"T_465c0_row25_col1\" class=\"data row25 col1\" >0.798684</td>\n",
       "      <td id=\"T_465c0_row25_col2\" class=\"data row25 col2\" >0.450166</td>\n",
       "      <td id=\"T_465c0_row25_col3\" class=\"data row25 col3\" >0.796844</td>\n",
       "    </tr>\n",
       "    <tr>\n",
       "      <th id=\"T_465c0_level0_row26\" class=\"row_heading level0 row26\" >27</th>\n",
       "      <td id=\"T_465c0_row26_col0\" class=\"data row26 col0\" >0.436014</td>\n",
       "      <td id=\"T_465c0_row26_col1\" class=\"data row26 col1\" >0.800000</td>\n",
       "      <td id=\"T_465c0_row26_col2\" class=\"data row26 col2\" >0.433576</td>\n",
       "      <td id=\"T_465c0_row26_col3\" class=\"data row26 col3\" >0.794872</td>\n",
       "    </tr>\n",
       "    <tr>\n",
       "      <th id=\"T_465c0_level0_row27\" class=\"row_heading level0 row27\" >28</th>\n",
       "      <td id=\"T_465c0_row27_col0\" class=\"data row27 col0\" >0.443123</td>\n",
       "      <td id=\"T_465c0_row27_col1\" class=\"data row27 col1\" >0.790789</td>\n",
       "      <td id=\"T_465c0_row27_col2\" class=\"data row27 col2\" >0.427311</td>\n",
       "      <td id=\"T_465c0_row27_col3\" class=\"data row27 col3\" >0.796844</td>\n",
       "    </tr>\n",
       "    <tr>\n",
       "      <th id=\"T_465c0_level0_row28\" class=\"row_heading level0 row28\" >29</th>\n",
       "      <td id=\"T_465c0_row28_col0\" class=\"data row28 col0\" >0.421430</td>\n",
       "      <td id=\"T_465c0_row28_col1\" class=\"data row28 col1\" >0.800000</td>\n",
       "      <td id=\"T_465c0_row28_col2\" class=\"data row28 col2\" >0.440549</td>\n",
       "      <td id=\"T_465c0_row28_col3\" class=\"data row28 col3\" >0.796844</td>\n",
       "    </tr>\n",
       "    <tr>\n",
       "      <th id=\"T_465c0_level0_row29\" class=\"row_heading level0 row29\" >30</th>\n",
       "      <td id=\"T_465c0_row29_col0\" class=\"data row29 col0\" >0.450262</td>\n",
       "      <td id=\"T_465c0_row29_col1\" class=\"data row29 col1\" >0.777632</td>\n",
       "      <td id=\"T_465c0_row29_col2\" class=\"data row29 col2\" >0.436141</td>\n",
       "      <td id=\"T_465c0_row29_col3\" class=\"data row29 col3\" >0.790927</td>\n",
       "    </tr>\n",
       "    <tr>\n",
       "      <th id=\"T_465c0_level0_row30\" class=\"row_heading level0 row30\" >31</th>\n",
       "      <td id=\"T_465c0_row30_col0\" class=\"data row30 col0\" >0.444403</td>\n",
       "      <td id=\"T_465c0_row30_col1\" class=\"data row30 col1\" >0.790789</td>\n",
       "      <td id=\"T_465c0_row30_col2\" class=\"data row30 col2\" >0.426645</td>\n",
       "      <td id=\"T_465c0_row30_col3\" class=\"data row30 col3\" >0.806706</td>\n",
       "    </tr>\n",
       "    <tr>\n",
       "      <th id=\"T_465c0_level0_row31\" class=\"row_heading level0 row31\" >32</th>\n",
       "      <td id=\"T_465c0_row31_col0\" class=\"data row31 col0\" >0.428471</td>\n",
       "      <td id=\"T_465c0_row31_col1\" class=\"data row31 col1\" >0.790789</td>\n",
       "      <td id=\"T_465c0_row31_col2\" class=\"data row31 col2\" >0.430801</td>\n",
       "      <td id=\"T_465c0_row31_col3\" class=\"data row31 col3\" >0.802761</td>\n",
       "    </tr>\n",
       "    <tr>\n",
       "      <th id=\"T_465c0_level0_row32\" class=\"row_heading level0 row32\" >33</th>\n",
       "      <td id=\"T_465c0_row32_col0\" class=\"data row32 col0\" >0.409681</td>\n",
       "      <td id=\"T_465c0_row32_col1\" class=\"data row32 col1\" >0.814474</td>\n",
       "      <td id=\"T_465c0_row32_col2\" class=\"data row32 col2\" >0.437965</td>\n",
       "      <td id=\"T_465c0_row32_col3\" class=\"data row32 col3\" >0.786982</td>\n",
       "    </tr>\n",
       "    <tr>\n",
       "      <th id=\"T_465c0_level0_row33\" class=\"row_heading level0 row33\" >34</th>\n",
       "      <td id=\"T_465c0_row33_col0\" class=\"data row33 col0\" >0.434311</td>\n",
       "      <td id=\"T_465c0_row33_col1\" class=\"data row33 col1\" >0.800000</td>\n",
       "      <td id=\"T_465c0_row33_col2\" class=\"data row33 col2\" >0.434751</td>\n",
       "      <td id=\"T_465c0_row33_col3\" class=\"data row33 col3\" >0.794872</td>\n",
       "    </tr>\n",
       "    <tr>\n",
       "      <th id=\"T_465c0_level0_row34\" class=\"row_heading level0 row34\" >35</th>\n",
       "      <td id=\"T_465c0_row34_col0\" class=\"data row34 col0\" >0.434412</td>\n",
       "      <td id=\"T_465c0_row34_col1\" class=\"data row34 col1\" >0.794079</td>\n",
       "      <td id=\"T_465c0_row34_col2\" class=\"data row34 col2\" >0.446328</td>\n",
       "      <td id=\"T_465c0_row34_col3\" class=\"data row34 col3\" >0.783037</td>\n",
       "    </tr>\n",
       "    <tr>\n",
       "      <th id=\"T_465c0_level0_row35\" class=\"row_heading level0 row35\" >36</th>\n",
       "      <td id=\"T_465c0_row35_col0\" class=\"data row35 col0\" >0.439366</td>\n",
       "      <td id=\"T_465c0_row35_col1\" class=\"data row35 col1\" >0.788158</td>\n",
       "      <td id=\"T_465c0_row35_col2\" class=\"data row35 col2\" >0.433249</td>\n",
       "      <td id=\"T_465c0_row35_col3\" class=\"data row35 col3\" >0.785010</td>\n",
       "    </tr>\n",
       "    <tr>\n",
       "      <th id=\"T_465c0_level0_row36\" class=\"row_heading level0 row36\" >37</th>\n",
       "      <td id=\"T_465c0_row36_col0\" class=\"data row36 col0\" >0.415087</td>\n",
       "      <td id=\"T_465c0_row36_col1\" class=\"data row36 col1\" >0.809211</td>\n",
       "      <td id=\"T_465c0_row36_col2\" class=\"data row36 col2\" >0.439745</td>\n",
       "      <td id=\"T_465c0_row36_col3\" class=\"data row36 col3\" >0.802761</td>\n",
       "    </tr>\n",
       "    <tr>\n",
       "      <th id=\"T_465c0_level0_row37\" class=\"row_heading level0 row37\" >38</th>\n",
       "      <td id=\"T_465c0_row37_col0\" class=\"data row37 col0\" >0.419410</td>\n",
       "      <td id=\"T_465c0_row37_col1\" class=\"data row37 col1\" >0.795395</td>\n",
       "      <td id=\"T_465c0_row37_col2\" class=\"data row37 col2\" >0.433343</td>\n",
       "      <td id=\"T_465c0_row37_col3\" class=\"data row37 col3\" >0.786982</td>\n",
       "    </tr>\n",
       "    <tr>\n",
       "      <th id=\"T_465c0_level0_row38\" class=\"row_heading level0 row38\" >39</th>\n",
       "      <td id=\"T_465c0_row38_col0\" class=\"data row38 col0\" >0.433128</td>\n",
       "      <td id=\"T_465c0_row38_col1\" class=\"data row38 col1\" >0.795395</td>\n",
       "      <td id=\"T_465c0_row38_col2\" class=\"data row38 col2\" >0.472315</td>\n",
       "      <td id=\"T_465c0_row38_col3\" class=\"data row38 col3\" >0.771203</td>\n",
       "    </tr>\n",
       "    <tr>\n",
       "      <th id=\"T_465c0_level0_row39\" class=\"row_heading level0 row39\" >40</th>\n",
       "      <td id=\"T_465c0_row39_col0\" class=\"data row39 col0\" >0.427388</td>\n",
       "      <td id=\"T_465c0_row39_col1\" class=\"data row39 col1\" >0.798026</td>\n",
       "      <td id=\"T_465c0_row39_col2\" class=\"data row39 col2\" >0.446445</td>\n",
       "      <td id=\"T_465c0_row39_col3\" class=\"data row39 col3\" >0.790927</td>\n",
       "    </tr>\n",
       "    <tr>\n",
       "      <th id=\"T_465c0_level0_row40\" class=\"row_heading level0 row40\" >41</th>\n",
       "      <td id=\"T_465c0_row40_col0\" class=\"data row40 col0\" >0.409218</td>\n",
       "      <td id=\"T_465c0_row40_col1\" class=\"data row40 col1\" >0.805921</td>\n",
       "      <td id=\"T_465c0_row40_col2\" class=\"data row40 col2\" >0.428405</td>\n",
       "      <td id=\"T_465c0_row40_col3\" class=\"data row40 col3\" >0.790927</td>\n",
       "    </tr>\n",
       "  </tbody>\n",
       "</table>\n"
      ],
      "text/plain": [
       "<pandas.io.formats.style.Styler at 0x7f6022ff5190>"
      ]
     },
     "metadata": {},
     "output_type": "display_data"
    },
    {
     "data": {
      "image/png": "[encoded data removed]",
      "text/plain": [
       "<Figure size 1152x432 with 2 Axes>"
      ]
     },
     "metadata": {
      "needs_background": "light"
     },
     "output_type": "display_data"
    }
   ],
   "source": [
    "show_history(history)"
   ]
  },
  {
   "cell_type": "code",
   "execution_count": 23,
   "id": "0f168ed3",
   "metadata": {
    "execution": {
     "iopub.execute_input": "2023-01-15T12:50:59.161363Z",
     "iopub.status.busy": "2023-01-15T12:50:59.160998Z",
     "iopub.status.idle": "2023-01-15T12:51:54.073628Z",
     "shell.execute_reply": "2023-01-15T12:51:54.072638Z"
    },
    "papermill": {
     "duration": 55.175397,
     "end_time": "2023-01-15T12:51:54.075936",
     "exception": false,
     "start_time": "2023-01-15T12:50:58.900539",
     "status": "completed"
    },
    "tags": []
   },
   "outputs": [
    {
     "name": "stderr",
     "output_type": "stream",
     "text": [
      "/opt/conda/lib/python3.7/site-packages/keras/utils/generic_utils.py:497: CustomMaskWarning: Custom mask layers require a config and must override get_config. When loading, the custom mask layer must be passed to the custom_objects argument.\n",
      "  category=CustomMaskWarning)\n"
     ]
    },
    {
     "data": {
      "text/plain": [
       "['keras_metadata.pb', 'variables', 'saved_model.pb', 'assets']"
      ]
     },
     "execution_count": 23,
     "metadata": {},
     "output_type": "execute_result"
    }
   ],
   "source": [
    "model.save(cfg.model_dir)\n",
    "os.listdir(cfg.model_dir)"
   ]
  },
  {
   "cell_type": "markdown",
   "id": "2850b511",
   "metadata": {
    "papermill": {
     "duration": 0.209205,
     "end_time": "2023-01-15T12:51:54.496204",
     "exception": false,
     "start_time": "2023-01-15T12:51:54.286999",
     "status": "completed"
    },
    "tags": []
   },
   "source": [
    "# Test\n",
    "\n",
    "Predict on test dataset."
   ]
  },
  {
   "cell_type": "code",
   "execution_count": 24,
   "id": "35c58780",
   "metadata": {
    "execution": {
     "iopub.execute_input": "2023-01-15T12:51:54.927460Z",
     "iopub.status.busy": "2023-01-15T12:51:54.926736Z",
     "iopub.status.idle": "2023-01-15T12:54:06.355911Z",
     "shell.execute_reply": "2023-01-15T12:54:06.354949Z"
    },
    "papermill": {
     "duration": 131.906188,
     "end_time": "2023-01-15T12:54:06.612491",
     "exception": false,
     "start_time": "2023-01-15T12:51:54.706303",
     "status": "completed"
    },
    "tags": []
   },
   "outputs": [
    {
     "data": {
      "text/plain": [
       "array([b'00054c878', b'0007285a3', b'00076c5a6', ..., b'20e1dbc67',\n",
       "       b'20f826e8f', b'20f85a935'], dtype=object)"
      ]
     },
     "execution_count": 24,
     "metadata": {},
     "output_type": "execute_result"
    }
   ],
   "source": [
    "test_ids = np.concatenate([x.numpy() for x in test_ds.map(lambda imgs, ids: ids)])\n",
    "test_ids"
   ]
  },
  {
   "cell_type": "code",
   "execution_count": 25,
   "id": "e929b39d",
   "metadata": {
    "execution": {
     "iopub.execute_input": "2023-01-15T12:54:07.031775Z",
     "iopub.status.busy": "2023-01-15T12:54:07.031078Z",
     "iopub.status.idle": "2023-01-15T12:57:31.251171Z",
     "shell.execute_reply": "2023-01-15T12:57:31.250045Z"
    },
    "papermill": {
     "duration": 204.433151,
     "end_time": "2023-01-15T12:57:31.253846",
     "exception": false,
     "start_time": "2023-01-15T12:54:06.820695",
     "status": "completed"
    },
    "tags": []
   },
   "outputs": [
    {
     "name": "stdout",
     "output_type": "stream",
     "text": [
      "125/125 [==============================] - 147s 1s/step\n"
     ]
    }
   ],
   "source": [
    "preds = model.predict(test_ds, verbose=1)"
   ]
  },
  {
   "cell_type": "code",
   "execution_count": 26,
   "id": "e3f73f92",
   "metadata": {
    "execution": {
     "iopub.execute_input": "2023-01-15T12:57:31.736231Z",
     "iopub.status.busy": "2023-01-15T12:57:31.735648Z",
     "iopub.status.idle": "2023-01-15T12:57:31.766399Z",
     "shell.execute_reply": "2023-01-15T12:57:31.765192Z"
    },
    "papermill": {
     "duration": 0.253576,
     "end_time": "2023-01-15T12:57:31.769148",
     "exception": false,
     "start_time": "2023-01-15T12:57:31.515572",
     "status": "completed"
    },
    "tags": []
   },
   "outputs": [
    {
     "data": {
      "text/html": [
       "<div>\n",
       "<style scoped>\n",
       "    .dataframe tbody tr th:only-of-type {\n",
       "        vertical-align: middle;\n",
       "    }\n",
       "\n",
       "    .dataframe tbody tr th {\n",
       "        vertical-align: top;\n",
       "    }\n",
       "\n",
       "    .dataframe thead th {\n",
       "        text-align: right;\n",
       "    }\n",
       "</style>\n",
       "<table border=\"1\" class=\"dataframe\">\n",
       "  <thead>\n",
       "    <tr style=\"text-align: right;\">\n",
       "      <th></th>\n",
       "      <th>id</th>\n",
       "      <th>target</th>\n",
       "    </tr>\n",
       "  </thead>\n",
       "  <tbody>\n",
       "    <tr>\n",
       "      <th>0</th>\n",
       "      <td>00054c878</td>\n",
       "      <td>0.265166</td>\n",
       "    </tr>\n",
       "    <tr>\n",
       "      <th>1</th>\n",
       "      <td>0007285a3</td>\n",
       "      <td>0.284305</td>\n",
       "    </tr>\n",
       "    <tr>\n",
       "      <th>2</th>\n",
       "      <td>00076c5a6</td>\n",
       "      <td>0.260120</td>\n",
       "    </tr>\n",
       "    <tr>\n",
       "      <th>3</th>\n",
       "      <td>001349290</td>\n",
       "      <td>0.184162</td>\n",
       "    </tr>\n",
       "    <tr>\n",
       "      <th>4</th>\n",
       "      <td>001a52e92</td>\n",
       "      <td>0.379040</td>\n",
       "    </tr>\n",
       "    <tr>\n",
       "      <th>...</th>\n",
       "      <td>...</td>\n",
       "      <td>...</td>\n",
       "    </tr>\n",
       "    <tr>\n",
       "      <th>7970</th>\n",
       "      <td>ffbce04ef</td>\n",
       "      <td>0.330592</td>\n",
       "    </tr>\n",
       "    <tr>\n",
       "      <th>7971</th>\n",
       "      <td>ffc2d976b</td>\n",
       "      <td>0.244992</td>\n",
       "    </tr>\n",
       "    <tr>\n",
       "      <th>7972</th>\n",
       "      <td>ffc905909</td>\n",
       "      <td>0.345997</td>\n",
       "    </tr>\n",
       "    <tr>\n",
       "      <th>7973</th>\n",
       "      <td>ffe276f3e</td>\n",
       "      <td>0.316729</td>\n",
       "    </tr>\n",
       "    <tr>\n",
       "      <th>7974</th>\n",
       "      <td>fffa17f67</td>\n",
       "      <td>0.920648</td>\n",
       "    </tr>\n",
       "  </tbody>\n",
       "</table>\n",
       "<p>7975 rows × 2 columns</p>\n",
       "</div>"
      ],
      "text/plain": [
       "             id    target\n",
       "0     00054c878  0.265166\n",
       "1     0007285a3  0.284305\n",
       "2     00076c5a6  0.260120\n",
       "3     001349290  0.184162\n",
       "4     001a52e92  0.379040\n",
       "...         ...       ...\n",
       "7970  ffbce04ef  0.330592\n",
       "7971  ffc2d976b  0.244992\n",
       "7972  ffc905909  0.345997\n",
       "7973  ffe276f3e  0.316729\n",
       "7974  fffa17f67  0.920648\n",
       "\n",
       "[7975 rows x 2 columns]"
      ]
     },
     "execution_count": 26,
     "metadata": {},
     "output_type": "execute_result"
    }
   ],
   "source": [
    "submission = pd.DataFrame({\n",
    "    \"id\": test_ids,\n",
    "    \"target\": preds.ravel()\n",
    "})\n",
    "submission[\"id\"] = submission[\"id\"].str.decode('utf-8')\n",
    "submission = submission.sort_values(by=\"id\")\n",
    "submission = submission.reset_index(drop=True)\n",
    "submission"
   ]
  },
  {
   "cell_type": "markdown",
   "id": "a1ba3c75",
   "metadata": {
    "execution": {
     "iopub.execute_input": "2022-11-19T12:46:13.250498Z",
     "iopub.status.busy": "2022-11-19T12:46:13.250228Z",
     "iopub.status.idle": "2022-11-19T12:46:13.27234Z",
     "shell.execute_reply": "2022-11-19T12:46:13.271668Z",
     "shell.execute_reply.started": "2022-11-19T12:46:13.250469Z"
    },
    "papermill": {
     "duration": 0.231499,
     "end_time": "2023-01-15T12:57:32.219108",
     "exception": false,
     "start_time": "2023-01-15T12:57:31.987609",
     "status": "completed"
    },
    "tags": []
   },
   "source": [
    "#### Check submission"
   ]
  },
  {
   "cell_type": "code",
   "execution_count": 27,
   "id": "0075bc97",
   "metadata": {
    "execution": {
     "iopub.execute_input": "2023-01-15T12:57:32.728441Z",
     "iopub.status.busy": "2023-01-15T12:57:32.728084Z",
     "iopub.status.idle": "2023-01-15T12:57:32.762857Z",
     "shell.execute_reply": "2023-01-15T12:57:32.761972Z"
    },
    "papermill": {
     "duration": 0.302088,
     "end_time": "2023-01-15T12:57:32.765196",
     "exception": false,
     "start_time": "2023-01-15T12:57:32.463108",
     "status": "completed"
    },
    "tags": []
   },
   "outputs": [
    {
     "data": {
      "text/plain": [
       "True"
      ]
     },
     "execution_count": 27,
     "metadata": {},
     "output_type": "execute_result"
    }
   ],
   "source": [
    "sample_submission = pd.read_csv(cfg.path_submission)\n",
    "(sample_submission[\"id\"] == submission[\"id\"]).all()"
   ]
  },
  {
   "cell_type": "code",
   "execution_count": 28,
   "id": "af41d5a3",
   "metadata": {
    "execution": {
     "iopub.execute_input": "2023-01-15T12:57:33.210635Z",
     "iopub.status.busy": "2023-01-15T12:57:33.209935Z",
     "iopub.status.idle": "2023-01-15T12:57:33.223487Z",
     "shell.execute_reply": "2023-01-15T12:57:33.222493Z"
    },
    "papermill": {
     "duration": 0.235799,
     "end_time": "2023-01-15T12:57:33.225691",
     "exception": false,
     "start_time": "2023-01-15T12:57:32.989892",
     "status": "completed"
    },
    "tags": []
   },
   "outputs": [
    {
     "data": {
      "text/plain": [
       "count    7975.000000\n",
       "mean        0.447253\n",
       "std         0.274064\n",
       "min         0.054810\n",
       "25%         0.266867\n",
       "50%         0.324583\n",
       "75%         0.461509\n",
       "max         0.999983\n",
       "Name: target, dtype: float64"
      ]
     },
     "execution_count": 28,
     "metadata": {},
     "output_type": "execute_result"
    }
   ],
   "source": [
    "submission[\"target\"].describe()"
   ]
  },
  {
   "cell_type": "markdown",
   "id": "e13b0011",
   "metadata": {
    "papermill": {
     "duration": 0.21828,
     "end_time": "2023-01-15T12:57:33.659874",
     "exception": false,
     "start_time": "2023-01-15T12:57:33.441594",
     "status": "completed"
    },
    "tags": []
   },
   "source": [
    "View distribution"
   ]
  },
  {
   "cell_type": "code",
   "execution_count": 29,
   "id": "e4f0f795",
   "metadata": {
    "execution": {
     "iopub.execute_input": "2023-01-15T12:57:34.239972Z",
     "iopub.status.busy": "2023-01-15T12:57:34.239540Z",
     "iopub.status.idle": "2023-01-15T12:57:34.813608Z",
     "shell.execute_reply": "2023-01-15T12:57:34.812675Z"
    },
    "papermill": {
     "duration": 0.941409,
     "end_time": "2023-01-15T12:57:34.816473",
     "exception": false,
     "start_time": "2023-01-15T12:57:33.875064",
     "status": "completed"
    },
    "tags": []
   },
   "outputs": [
    {
     "data": {
      "text/plain": [
       "<seaborn.axisgrid.FacetGrid at 0x7f5c3580ef50>"
      ]
     },
     "execution_count": 29,
     "metadata": {},
     "output_type": "execute_result"
    },
    {
     "data": {
      "image/png": "[encoded data removed]",
      "text/plain": [
       "<Figure size 360x360 with 1 Axes>"
      ]
     },
     "metadata": {
      "needs_background": "light"
     },
     "output_type": "display_data"
    }
   ],
   "source": [
    "sns.displot(submission, x=\"target\", kde=True)"
   ]
  },
  {
   "cell_type": "markdown",
   "id": "6c8aad0c",
   "metadata": {
    "papermill": {
     "duration": 0.294244,
     "end_time": "2023-01-15T12:57:35.469537",
     "exception": false,
     "start_time": "2023-01-15T12:57:35.175293",
     "status": "completed"
    },
    "tags": []
   },
   "source": [
    "## Write submission"
   ]
  },
  {
   "cell_type": "code",
   "execution_count": 30,
   "id": "3855e993",
   "metadata": {
    "execution": {
     "iopub.execute_input": "2023-01-15T12:57:35.906236Z",
     "iopub.status.busy": "2023-01-15T12:57:35.905874Z",
     "iopub.status.idle": "2023-01-15T12:57:35.926466Z",
     "shell.execute_reply": "2023-01-15T12:57:35.925557Z"
    },
    "papermill": {
     "duration": 0.241997,
     "end_time": "2023-01-15T12:57:35.928555",
     "exception": false,
     "start_time": "2023-01-15T12:57:35.686558",
     "status": "completed"
    },
    "tags": []
   },
   "outputs": [],
   "source": [
    "submission.to_csv(\"submission.csv\", index=False)"
   ]
  },
  {
   "cell_type": "code",
   "execution_count": 31,
   "id": "68cada4b",
   "metadata": {
    "execution": {
     "iopub.execute_input": "2023-01-15T12:57:36.573502Z",
     "iopub.status.busy": "2023-01-15T12:57:36.573030Z",
     "iopub.status.idle": "2023-01-15T12:57:37.629119Z",
     "shell.execute_reply": "2023-01-15T12:57:37.627808Z"
    },
    "papermill": {
     "duration": 1.389184,
     "end_time": "2023-01-15T12:57:37.631757",
     "exception": false,
     "start_time": "2023-01-15T12:57:36.242573",
     "status": "completed"
    },
    "tags": []
   },
   "outputs": [
    {
     "name": "stdout",
     "output_type": "stream",
     "text": [
      "id,target\r\n",
      "00054c878,0.26516563\r\n",
      "0007285a3,0.28430477\r\n",
      "00076c5a6,0.26012024\r\n",
      "001349290,0.18416195\r\n",
      "001a52e92,0.3790397\r\n",
      "00222d97b,0.2735235\r\n",
      "00249c302,0.26843703\r\n",
      "0026862ce,0.25575513\r\n",
      "00368b973,0.25121266\r\n"
     ]
    }
   ],
   "source": [
    "!head submission.csv"
   ]
  },
  {
   "cell_type": "markdown",
   "id": "d698388a",
   "metadata": {
    "papermill": {
     "duration": 0.220569,
     "end_time": "2023-01-15T12:57:38.072562",
     "exception": false,
     "start_time": "2023-01-15T12:57:37.851993",
     "status": "completed"
    },
    "tags": []
   },
   "source": [
    "### References\n",
    " - [G2Net TF Baseline 360](https://www.kaggle.com/code/crischir/g2net-tf-baseline-360)\n",
    " - [Basic Spectrogram image classification](https://www.kaggle.com/code/junkoda/basic-spectrogram-image-classification)\n",
    " - [G2Net TF Keras train test with TPU](https://www.kaggle.com/code/itsuki9180/g2net-tf-keras-train-test-with-tpu)"
   ]
  },
  {
   "cell_type": "markdown",
   "id": "bb8a8938",
   "metadata": {
    "papermill": {
     "duration": 0.215812,
     "end_time": "2023-01-15T12:57:38.503543",
     "exception": false,
     "start_time": "2023-01-15T12:57:38.287731",
     "status": "completed"
    },
    "tags": []
   },
   "source": [
    "## End of the Notebook"
   ]
  }
 ],
 "metadata": {
  "kernelspec": {
   "display_name": "Python 3",
   "language": "python",
   "name": "python3"
  },
  "language_info": {
   "codemirror_mode": {
    "name": "ipython",
    "version": 3
   },
   "file_extension": ".py",
   "mimetype": "text/x-python",
   "name": "python",
   "nbconvert_exporter": "python",
   "pygments_lexer": "ipython3",
   "version": "3.7.4"
  },
  "papermill": {
   "default_parameters": {},
   "duration": 2457.381549,
   "end_time": "2023-01-15T12:57:41.692321",
   "environment_variables": {},
   "exception": null,
   "input_path": "__notebook__.ipynb",
   "output_path": "__notebook__.ipynb",
   "parameters": {},
   "start_time": "2023-01-15T12:16:44.310772",
   "version": "2.3.4"
  },
  "vscode": {
   "interpreter": {
    "hash": "3a385aaad104376ac2e1eac87a3eeec8753c88264d7c522ef590b16c0109a2da"
   }
  }
 },
 "nbformat": 4,
 "nbformat_minor": 5
}
